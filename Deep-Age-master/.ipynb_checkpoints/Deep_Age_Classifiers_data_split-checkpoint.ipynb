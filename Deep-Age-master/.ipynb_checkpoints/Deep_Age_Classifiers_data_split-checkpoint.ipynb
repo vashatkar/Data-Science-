{
 "cells": [
  {
   "cell_type": "code",
   "execution_count": 1,
   "metadata": {
    "colab": {
     "base_uri": "https://localhost:8080/",
     "height": 34
    },
    "colab_type": "code",
    "executionInfo": {
     "elapsed": 1843,
     "status": "ok",
     "timestamp": 1573176655228,
     "user": {
      "displayName": "Srikanth Babu Mandru",
      "photoUrl": "",
      "userId": "18288560901391106987"
     },
     "user_tz": 300
    },
    "id": "TxadA_GlBMCg",
    "outputId": "ce979a23-7d2b-46af-dc2e-8869d6d32e3d"
   },
   "outputs": [
    {
     "name": "stdout",
     "output_type": "stream",
     "text": [
      "1.15.0\n"
     ]
    }
   ],
   "source": [
    "import tensorflow as tf\n",
    "print(tf.__version__)"
   ]
  },
  {
   "cell_type": "markdown",
   "metadata": {
    "colab_type": "text",
    "id": "nD70LBY1p69I"
   },
   "source": [
    "## Import Libraries "
   ]
  },
  {
   "cell_type": "code",
   "execution_count": 2,
   "metadata": {
    "colab": {},
    "colab_type": "code",
    "id": "0kpHlotpp69K"
   },
   "outputs": [],
   "source": [
    "import pandas as pd\n",
    "import h5py"
   ]
  },
  {
   "cell_type": "code",
   "execution_count": 3,
   "metadata": {
    "colab": {},
    "colab_type": "code",
    "id": "WwBYLxYMp69M"
   },
   "outputs": [],
   "source": [
    "import numpy as np\n",
    "import pandas as pd\n",
    "import matplotlib.pyplot as plt\n",
    "import seaborn as sns\n",
    "import glob\n",
    "import os\n",
    "from sklearn.model_selection import train_test_split\n",
    "\n",
    "%matplotlib inline\n",
    "plt.rcParams['figure.figsize'] = (5.0, 4.0) # set default size of plots\n",
    "plt.rcParams['image.interpolation'] = 'nearest'\n",
    "plt.rcParams['image.cmap'] = 'gray'"
   ]
  },
  {
   "cell_type": "code",
   "execution_count": 4,
   "metadata": {
    "colab": {},
    "colab_type": "code",
    "id": "dyYRmOfzp69N"
   },
   "outputs": [],
   "source": [
    "import warnings\n",
    "warnings.simplefilter(action='ignore', category = FutureWarning )"
   ]
  },
  {
   "cell_type": "code",
   "execution_count": 5,
   "metadata": {
    "colab": {},
    "colab_type": "code",
    "id": "FHb3Sjvlp69P"
   },
   "outputs": [],
   "source": [
    "from collections import defaultdict"
   ]
  },
  {
   "cell_type": "code",
   "execution_count": 6,
   "metadata": {
    "colab": {
     "base_uri": "https://localhost:8080/",
     "height": 34
    },
    "colab_type": "code",
    "executionInfo": {
     "elapsed": 2540,
     "status": "ok",
     "timestamp": 1573176655947,
     "user": {
      "displayName": "Srikanth Babu Mandru",
      "photoUrl": "",
      "userId": "18288560901391106987"
     },
     "user_tz": 300
    },
    "id": "oNgrO2IOp69R",
    "outputId": "3fc3caf7-56d3-4f0a-e4d7-cc17a0532f1c"
   },
   "outputs": [
    {
     "name": "stderr",
     "output_type": "stream",
     "text": [
      "Using TensorFlow backend.\n"
     ]
    }
   ],
   "source": [
    "from keras.preprocessing import image\n",
    "from keras.applications.imagenet_utils import preprocess_input\n",
    "from keras.utils import to_categorical\n",
    "\n",
    "from keras import layers\n",
    "from keras.layers import Input, Dense, Activation, Dropout, BatchNormalization, Flatten\n",
    "from keras.layers import AveragePooling2D, MaxPooling2D, GlobalMaxPooling2D, GlobalAveragePooling2D , Flatten, Conv2D, ZeroPadding2D\n",
    "from keras.models import Sequential\n",
    "\n",
    "from keras.optimizers import RMSprop , SGD, Adam\n",
    "\n",
    "\n",
    "import keras.backend as K\n",
    "\n",
    "K.set_image_data_format('channels_last')\n",
    "\n",
    "\n"
   ]
  },
  {
   "cell_type": "code",
   "execution_count": null,
   "metadata": {
    "colab": {},
    "colab_type": "code",
    "id": "oWOLt2Jep69U"
   },
   "outputs": [],
   "source": []
  },
  {
   "cell_type": "code",
   "execution_count": null,
   "metadata": {
    "colab": {},
    "colab_type": "code",
    "id": "xAw2PPLYp69V"
   },
   "outputs": [],
   "source": []
  },
  {
   "cell_type": "markdown",
   "metadata": {
    "colab_type": "text",
    "id": "xprS9FKYp69X"
   },
   "source": [
    "### Import data"
   ]
  },
  {
   "cell_type": "code",
   "execution_count": 7,
   "metadata": {
    "colab": {},
    "colab_type": "code",
    "id": "i27evUraq_ud"
   },
   "outputs": [],
   "source": [
    "import h5py\n",
    "from pathlib import Path"
   ]
  },
  {
   "cell_type": "code",
   "execution_count": 8,
   "metadata": {
    "colab": {
     "base_uri": "https://localhost:8080/",
     "height": 122
    },
    "colab_type": "code",
    "executionInfo": {
     "elapsed": 21891,
     "status": "ok",
     "timestamp": 1573176678675,
     "user": {
      "displayName": "Srikanth Babu Mandru",
      "photoUrl": "",
      "userId": "18288560901391106987"
     },
     "user_tz": 300
    },
    "id": "mlPKTpufr_5G",
    "outputId": "49656c4e-2ac5-407d-aaaa-521ed4e66c4b"
   },
   "outputs": [],
   "source": [
    "#from google.colab import drive\n",
    "\n",
    "#drive.mount('/content/gdrive')\n",
    "#root_path = 'gdrive/My Drive/SML project/'"
   ]
  },
  {
   "cell_type": "code",
   "execution_count": 9,
   "metadata": {
    "colab": {},
    "colab_type": "code",
    "id": "GPnrVXc1rGRj"
   },
   "outputs": [],
   "source": [
    "root_path = ''"
   ]
  },
  {
   "cell_type": "code",
   "execution_count": 10,
   "metadata": {
    "colab": {},
    "colab_type": "code",
    "id": "weyle3LBqxaG"
   },
   "outputs": [],
   "source": [
    "num_images = 23708\n",
    "hdf5_dir = Path(root_path + \"data/hdf5/\")"
   ]
  },
  {
   "cell_type": "code",
   "execution_count": 11,
   "metadata": {
    "colab": {
     "base_uri": "https://localhost:8080/",
     "height": 34
    },
    "colab_type": "code",
    "executionInfo": {
     "elapsed": 168,
     "status": "ok",
     "timestamp": 1573176685508,
     "user": {
      "displayName": "Srikanth Babu Mandru",
      "photoUrl": "",
      "userId": "18288560901391106987"
     },
     "user_tz": 300
    },
    "id": "L-7PfjEruHUS",
    "outputId": "343f2535-f54b-4c71-bb97-521a742535b8"
   },
   "outputs": [
    {
     "name": "stdout",
     "output_type": "stream",
     "text": [
      "data/hdf5\n"
     ]
    }
   ],
   "source": [
    "print(hdf5_dir)"
   ]
  },
  {
   "cell_type": "code",
   "execution_count": 12,
   "metadata": {
    "colab": {},
    "colab_type": "code",
    "id": "2QNmCfzjqpvA"
   },
   "outputs": [],
   "source": [
    "def read_hdf5(num_images):\n",
    "    \n",
    "    images, labels = [], []\n",
    "\n",
    "    # Open the HDF5 file\n",
    "    # file = h5py.File(hdf5_dir / f\"{num_images}_many.h5\", \"r+\")\n",
    "    file = h5py.File(hdf5_dir / \"23708_many.h5\", \"r+\")\n",
    "    images = np.array(file[\"/images\"]).astype(\"uint8\")\n",
    "    labels = np.array(file[\"/meta\"]).astype(\"uint8\")\n",
    "\n",
    "    return images, labels\n"
   ]
  },
  {
   "cell_type": "code",
   "execution_count": 13,
   "metadata": {
    "colab": {},
    "colab_type": "code",
    "id": "Fg1DyoqoqqLx"
   },
   "outputs": [],
   "source": [
    "X_original , Y_original = read_hdf5(num_images)"
   ]
  },
  {
   "cell_type": "code",
   "execution_count": 14,
   "metadata": {
    "colab": {
     "base_uri": "https://localhost:8080/",
     "height": 34
    },
    "colab_type": "code",
    "executionInfo": {
     "elapsed": 136691,
     "status": "ok",
     "timestamp": 1573176836425,
     "user": {
      "displayName": "Srikanth Babu Mandru",
      "photoUrl": "",
      "userId": "18288560901391106987"
     },
     "user_tz": 300
    },
    "id": "xYM3cOwlqqfB",
    "outputId": "dfc3687a-db48-4037-f40a-a31b2e3e5795"
   },
   "outputs": [
    {
     "data": {
      "text/plain": [
       "(23708, 256, 256, 3)"
      ]
     },
     "execution_count": 14,
     "metadata": {},
     "output_type": "execute_result"
    }
   ],
   "source": [
    "X_original.shape"
   ]
  },
  {
   "cell_type": "code",
   "execution_count": 15,
   "metadata": {
    "colab": {
     "base_uri": "https://localhost:8080/",
     "height": 136
    },
    "colab_type": "code",
    "executionInfo": {
     "elapsed": 136300,
     "status": "ok",
     "timestamp": 1573176836425,
     "user": {
      "displayName": "Srikanth Babu Mandru",
      "photoUrl": "",
      "userId": "18288560901391106987"
     },
     "user_tz": 300
    },
    "id": "QI5r_MIMp69e",
    "outputId": "70c3b580-de5c-4175-84b4-2b604019e07f"
   },
   "outputs": [
    {
     "data": {
      "text/plain": [
       "array([[52,  0],\n",
       "       [41,  0],\n",
       "       [49,  0],\n",
       "       ...,\n",
       "       [17,  0],\n",
       "       [31,  0],\n",
       "       [18,  1]], dtype=uint8)"
      ]
     },
     "execution_count": 15,
     "metadata": {},
     "output_type": "execute_result"
    }
   ],
   "source": [
    "Y_original"
   ]
  },
  {
   "cell_type": "code",
   "execution_count": 16,
   "metadata": {
    "colab": {
     "base_uri": "https://localhost:8080/",
     "height": 419
    },
    "colab_type": "code",
    "executionInfo": {
     "elapsed": 135291,
     "status": "ok",
     "timestamp": 1573176836426,
     "user": {
      "displayName": "Srikanth Babu Mandru",
      "photoUrl": "",
      "userId": "18288560901391106987"
     },
     "user_tz": 300
    },
    "id": "cXO25jUaEg67",
    "outputId": "8f8d8a57-52a0-4a6a-8f4c-2c3c6433e451"
   },
   "outputs": [
    {
     "data": {
      "text/html": [
       "<div>\n",
       "<style scoped>\n",
       "    .dataframe tbody tr th:only-of-type {\n",
       "        vertical-align: middle;\n",
       "    }\n",
       "\n",
       "    .dataframe tbody tr th {\n",
       "        vertical-align: top;\n",
       "    }\n",
       "\n",
       "    .dataframe thead th {\n",
       "        text-align: right;\n",
       "    }\n",
       "</style>\n",
       "<table border=\"1\" class=\"dataframe\">\n",
       "  <thead>\n",
       "    <tr style=\"text-align: right;\">\n",
       "      <th></th>\n",
       "      <th>age_label</th>\n",
       "      <th>gender_label</th>\n",
       "    </tr>\n",
       "  </thead>\n",
       "  <tbody>\n",
       "    <tr>\n",
       "      <th>0</th>\n",
       "      <td>52</td>\n",
       "      <td>0</td>\n",
       "    </tr>\n",
       "    <tr>\n",
       "      <th>1</th>\n",
       "      <td>41</td>\n",
       "      <td>0</td>\n",
       "    </tr>\n",
       "    <tr>\n",
       "      <th>2</th>\n",
       "      <td>49</td>\n",
       "      <td>0</td>\n",
       "    </tr>\n",
       "    <tr>\n",
       "      <th>3</th>\n",
       "      <td>5</td>\n",
       "      <td>0</td>\n",
       "    </tr>\n",
       "    <tr>\n",
       "      <th>4</th>\n",
       "      <td>68</td>\n",
       "      <td>0</td>\n",
       "    </tr>\n",
       "    <tr>\n",
       "      <th>...</th>\n",
       "      <td>...</td>\n",
       "      <td>...</td>\n",
       "    </tr>\n",
       "    <tr>\n",
       "      <th>23703</th>\n",
       "      <td>24</td>\n",
       "      <td>1</td>\n",
       "    </tr>\n",
       "    <tr>\n",
       "      <th>23704</th>\n",
       "      <td>3</td>\n",
       "      <td>1</td>\n",
       "    </tr>\n",
       "    <tr>\n",
       "      <th>23705</th>\n",
       "      <td>17</td>\n",
       "      <td>0</td>\n",
       "    </tr>\n",
       "    <tr>\n",
       "      <th>23706</th>\n",
       "      <td>31</td>\n",
       "      <td>0</td>\n",
       "    </tr>\n",
       "    <tr>\n",
       "      <th>23707</th>\n",
       "      <td>18</td>\n",
       "      <td>1</td>\n",
       "    </tr>\n",
       "  </tbody>\n",
       "</table>\n",
       "<p>23708 rows × 2 columns</p>\n",
       "</div>"
      ],
      "text/plain": [
       "       age_label  gender_label\n",
       "0             52             0\n",
       "1             41             0\n",
       "2             49             0\n",
       "3              5             0\n",
       "4             68             0\n",
       "...          ...           ...\n",
       "23703         24             1\n",
       "23704          3             1\n",
       "23705         17             0\n",
       "23706         31             0\n",
       "23707         18             1\n",
       "\n",
       "[23708 rows x 2 columns]"
      ]
     },
     "execution_count": 16,
     "metadata": {},
     "output_type": "execute_result"
    }
   ],
   "source": [
    "Y_original_df = pd.DataFrame(Y_original, columns=['age_label', 'gender_label'])\n",
    "Y_original_df"
   ]
  },
  {
   "cell_type": "code",
   "execution_count": 17,
   "metadata": {
    "colab": {},
    "colab_type": "code",
    "id": "8PQ6dLzrxBy7"
   },
   "outputs": [],
   "source": [
    "\n",
    "\n",
    "def convert_age2(age):\n",
    "    if(age >= 1 and age <= 5):\n",
    "        return str(1)\n",
    "    elif(age >= 6 and age <= 10):\n",
    "        return str(2)\n",
    "    elif(age >= 11 and age <= 15):\n",
    "        return str(3)\n",
    "    elif(age >= 16 and age <= 20):\n",
    "        return str(4)\n",
    "    elif(age >= 21 and age <= 25):\n",
    "        return str(5)\n",
    "    elif(age >= 26 and age <= 30):\n",
    "        return str(6)\n",
    "    elif(age >= 31 and age <= 35):\n",
    "        return str(7)\n",
    "    elif(age >= 36 and age <= 40):\n",
    "        return str(8)\n",
    "    elif(age >= 41 and age <= 45):\n",
    "        return str(9)\n",
    "    elif(age >= 46 and age <= 50):\n",
    "        return str(10)\n",
    "    elif(age >= 51 and age <= 55):\n",
    "        return str(11)\n",
    "    elif(age >= 56 and age <= 60):\n",
    "        return str(12)\n",
    "    elif(age >= 61 and age <= 65):\n",
    "        return str(13)\n",
    "    elif(age >= 66 and age <= 116):\n",
    "        return str(14)\n",
    "    else:\n",
    "        return 'OOR'"
   ]
  },
  {
   "cell_type": "code",
   "execution_count": 18,
   "metadata": {
    "colab": {
     "base_uri": "https://localhost:8080/",
     "height": 296
    },
    "colab_type": "code",
    "executionInfo": {
     "elapsed": 127907,
     "status": "ok",
     "timestamp": 1573176836741,
     "user": {
      "displayName": "Srikanth Babu Mandru",
      "photoUrl": "",
      "userId": "18288560901391106987"
     },
     "user_tz": 300
    },
    "id": "OXKwG3qXxQB8",
    "outputId": "2400fcf8-9941-4c61-e7c7-e9ba04afa14d"
   },
   "outputs": [],
   "source": [
    "Y_original_df['age_group_label'] = Y_original_df['age_label'].map(convert_age2)\n",
    "#plt.hist(Y_original_df['age_group_label'].values)\n",
    "#plt.xlabel('age group')\n",
    "#plt.ylabel('number of records')"
   ]
  },
  {
   "cell_type": "code",
   "execution_count": 19,
   "metadata": {
    "colab": {},
    "colab_type": "code",
    "id": "xcgalFCPzL6N"
   },
   "outputs": [
    {
     "data": {
      "text/html": [
       "<div>\n",
       "<style scoped>\n",
       "    .dataframe tbody tr th:only-of-type {\n",
       "        vertical-align: middle;\n",
       "    }\n",
       "\n",
       "    .dataframe tbody tr th {\n",
       "        vertical-align: top;\n",
       "    }\n",
       "\n",
       "    .dataframe thead th {\n",
       "        text-align: right;\n",
       "    }\n",
       "</style>\n",
       "<table border=\"1\" class=\"dataframe\">\n",
       "  <thead>\n",
       "    <tr style=\"text-align: right;\">\n",
       "      <th></th>\n",
       "      <th>age_label</th>\n",
       "      <th>gender_label</th>\n",
       "      <th>age_group_label</th>\n",
       "    </tr>\n",
       "  </thead>\n",
       "  <tbody>\n",
       "    <tr>\n",
       "      <th>0</th>\n",
       "      <td>52</td>\n",
       "      <td>0</td>\n",
       "      <td>11</td>\n",
       "    </tr>\n",
       "    <tr>\n",
       "      <th>1</th>\n",
       "      <td>41</td>\n",
       "      <td>0</td>\n",
       "      <td>9</td>\n",
       "    </tr>\n",
       "    <tr>\n",
       "      <th>2</th>\n",
       "      <td>49</td>\n",
       "      <td>0</td>\n",
       "      <td>10</td>\n",
       "    </tr>\n",
       "    <tr>\n",
       "      <th>3</th>\n",
       "      <td>5</td>\n",
       "      <td>0</td>\n",
       "      <td>1</td>\n",
       "    </tr>\n",
       "    <tr>\n",
       "      <th>4</th>\n",
       "      <td>68</td>\n",
       "      <td>0</td>\n",
       "      <td>14</td>\n",
       "    </tr>\n",
       "    <tr>\n",
       "      <th>...</th>\n",
       "      <td>...</td>\n",
       "      <td>...</td>\n",
       "      <td>...</td>\n",
       "    </tr>\n",
       "    <tr>\n",
       "      <th>23703</th>\n",
       "      <td>24</td>\n",
       "      <td>1</td>\n",
       "      <td>5</td>\n",
       "    </tr>\n",
       "    <tr>\n",
       "      <th>23704</th>\n",
       "      <td>3</td>\n",
       "      <td>1</td>\n",
       "      <td>1</td>\n",
       "    </tr>\n",
       "    <tr>\n",
       "      <th>23705</th>\n",
       "      <td>17</td>\n",
       "      <td>0</td>\n",
       "      <td>4</td>\n",
       "    </tr>\n",
       "    <tr>\n",
       "      <th>23706</th>\n",
       "      <td>31</td>\n",
       "      <td>0</td>\n",
       "      <td>7</td>\n",
       "    </tr>\n",
       "    <tr>\n",
       "      <th>23707</th>\n",
       "      <td>18</td>\n",
       "      <td>1</td>\n",
       "      <td>4</td>\n",
       "    </tr>\n",
       "  </tbody>\n",
       "</table>\n",
       "<p>23708 rows × 3 columns</p>\n",
       "</div>"
      ],
      "text/plain": [
       "       age_label  gender_label age_group_label\n",
       "0             52             0              11\n",
       "1             41             0               9\n",
       "2             49             0              10\n",
       "3              5             0               1\n",
       "4             68             0              14\n",
       "...          ...           ...             ...\n",
       "23703         24             1               5\n",
       "23704          3             1               1\n",
       "23705         17             0               4\n",
       "23706         31             0               7\n",
       "23707         18             1               4\n",
       "\n",
       "[23708 rows x 3 columns]"
      ]
     },
     "execution_count": 19,
     "metadata": {},
     "output_type": "execute_result"
    }
   ],
   "source": [
    "Y_original_df"
   ]
  },
  {
   "cell_type": "code",
   "execution_count": 20,
   "metadata": {
    "colab": {
     "base_uri": "https://localhost:8080/",
     "height": 296
    },
    "colab_type": "code",
    "executionInfo": {
     "elapsed": 125341,
     "status": "ok",
     "timestamp": 1573176836893,
     "user": {
      "displayName": "Srikanth Babu Mandru",
      "photoUrl": "",
      "userId": "18288560901391106987"
     },
     "user_tz": 300
    },
    "id": "5987mltJDTos",
    "outputId": "009bf32d-4971-4346-cfe0-e0a634476d3e"
   },
   "outputs": [],
   "source": [
    "#plt.hist(Y_original[:, 0])\n",
    "#plt.xlabel('age')\n",
    "#plt.ylabel('number of records')"
   ]
  },
  {
   "cell_type": "code",
   "execution_count": 21,
   "metadata": {
    "colab": {
     "base_uri": "https://localhost:8080/",
     "height": 419
    },
    "colab_type": "code",
    "executionInfo": {
     "elapsed": 123401,
     "status": "ok",
     "timestamp": 1573176836893,
     "user": {
      "displayName": "Srikanth Babu Mandru",
      "photoUrl": "",
      "userId": "18288560901391106987"
     },
     "user_tz": 300
    },
    "id": "Rfh9JdBnxQx7",
    "outputId": "f0fc9f2b-bd89-45e9-c077-41d8b4531572"
   },
   "outputs": [
    {
     "data": {
      "text/html": [
       "<div>\n",
       "<style scoped>\n",
       "    .dataframe tbody tr th:only-of-type {\n",
       "        vertical-align: middle;\n",
       "    }\n",
       "\n",
       "    .dataframe tbody tr th {\n",
       "        vertical-align: top;\n",
       "    }\n",
       "\n",
       "    .dataframe thead th {\n",
       "        text-align: right;\n",
       "    }\n",
       "</style>\n",
       "<table border=\"1\" class=\"dataframe\">\n",
       "  <thead>\n",
       "    <tr style=\"text-align: right;\">\n",
       "      <th></th>\n",
       "      <th>age_label</th>\n",
       "      <th>gender_label</th>\n",
       "      <th>age_group_label</th>\n",
       "    </tr>\n",
       "  </thead>\n",
       "  <tbody>\n",
       "    <tr>\n",
       "      <th>0</th>\n",
       "      <td>52</td>\n",
       "      <td>0</td>\n",
       "      <td>11</td>\n",
       "    </tr>\n",
       "    <tr>\n",
       "      <th>1</th>\n",
       "      <td>41</td>\n",
       "      <td>0</td>\n",
       "      <td>9</td>\n",
       "    </tr>\n",
       "    <tr>\n",
       "      <th>2</th>\n",
       "      <td>49</td>\n",
       "      <td>0</td>\n",
       "      <td>10</td>\n",
       "    </tr>\n",
       "    <tr>\n",
       "      <th>3</th>\n",
       "      <td>5</td>\n",
       "      <td>0</td>\n",
       "      <td>1</td>\n",
       "    </tr>\n",
       "    <tr>\n",
       "      <th>4</th>\n",
       "      <td>68</td>\n",
       "      <td>0</td>\n",
       "      <td>14</td>\n",
       "    </tr>\n",
       "    <tr>\n",
       "      <th>...</th>\n",
       "      <td>...</td>\n",
       "      <td>...</td>\n",
       "      <td>...</td>\n",
       "    </tr>\n",
       "    <tr>\n",
       "      <th>23703</th>\n",
       "      <td>24</td>\n",
       "      <td>1</td>\n",
       "      <td>5</td>\n",
       "    </tr>\n",
       "    <tr>\n",
       "      <th>23704</th>\n",
       "      <td>3</td>\n",
       "      <td>1</td>\n",
       "      <td>1</td>\n",
       "    </tr>\n",
       "    <tr>\n",
       "      <th>23705</th>\n",
       "      <td>17</td>\n",
       "      <td>0</td>\n",
       "      <td>4</td>\n",
       "    </tr>\n",
       "    <tr>\n",
       "      <th>23706</th>\n",
       "      <td>31</td>\n",
       "      <td>0</td>\n",
       "      <td>7</td>\n",
       "    </tr>\n",
       "    <tr>\n",
       "      <th>23707</th>\n",
       "      <td>18</td>\n",
       "      <td>1</td>\n",
       "      <td>4</td>\n",
       "    </tr>\n",
       "  </tbody>\n",
       "</table>\n",
       "<p>23708 rows × 3 columns</p>\n",
       "</div>"
      ],
      "text/plain": [
       "       age_label  gender_label age_group_label\n",
       "0             52             0              11\n",
       "1             41             0               9\n",
       "2             49             0              10\n",
       "3              5             0               1\n",
       "4             68             0              14\n",
       "...          ...           ...             ...\n",
       "23703         24             1               5\n",
       "23704          3             1               1\n",
       "23705         17             0               4\n",
       "23706         31             0               7\n",
       "23707         18             1               4\n",
       "\n",
       "[23708 rows x 3 columns]"
      ]
     },
     "execution_count": 21,
     "metadata": {},
     "output_type": "execute_result"
    }
   ],
   "source": [
    "Y_original_df"
   ]
  },
  {
   "cell_type": "code",
   "execution_count": 22,
   "metadata": {
    "colab": {
     "base_uri": "https://localhost:8080/",
     "height": 34
    },
    "colab_type": "code",
    "executionInfo": {
     "elapsed": 121565,
     "status": "ok",
     "timestamp": 1573176836894,
     "user": {
      "displayName": "Srikanth Babu Mandru",
      "photoUrl": "",
      "userId": "18288560901391106987"
     },
     "user_tz": 300
    },
    "id": "YovjqZL9p69g",
    "outputId": "9b31c79a-500c-4015-9dc2-20a05e6c2866"
   },
   "outputs": [
    {
     "data": {
      "text/plain": [
       "0"
      ]
     },
     "execution_count": 22,
     "metadata": {},
     "output_type": "execute_result"
    }
   ],
   "source": [
    "sum(Y_original_df.age_group_label == 'OOR')"
   ]
  },
  {
   "cell_type": "code",
   "execution_count": 23,
   "metadata": {
    "colab": {
     "base_uri": "https://localhost:8080/",
     "height": 419
    },
    "colab_type": "code",
    "executionInfo": {
     "elapsed": 121308,
     "status": "ok",
     "timestamp": 1573176836895,
     "user": {
      "displayName": "Srikanth Babu Mandru",
      "photoUrl": "",
      "userId": "18288560901391106987"
     },
     "user_tz": 300
    },
    "id": "URqduZTTfDJO",
    "outputId": "4679c203-f026-4f17-f257-2dbfede800aa"
   },
   "outputs": [
    {
     "data": {
      "text/html": [
       "<div>\n",
       "<style scoped>\n",
       "    .dataframe tbody tr th:only-of-type {\n",
       "        vertical-align: middle;\n",
       "    }\n",
       "\n",
       "    .dataframe tbody tr th {\n",
       "        vertical-align: top;\n",
       "    }\n",
       "\n",
       "    .dataframe thead th {\n",
       "        text-align: right;\n",
       "    }\n",
       "</style>\n",
       "<table border=\"1\" class=\"dataframe\">\n",
       "  <thead>\n",
       "    <tr style=\"text-align: right;\">\n",
       "      <th></th>\n",
       "      <th>age_label</th>\n",
       "      <th>gender_label</th>\n",
       "      <th>age_group_label</th>\n",
       "    </tr>\n",
       "  </thead>\n",
       "  <tbody>\n",
       "    <tr>\n",
       "      <th>0</th>\n",
       "      <td>52</td>\n",
       "      <td>0</td>\n",
       "      <td>11</td>\n",
       "    </tr>\n",
       "    <tr>\n",
       "      <th>1</th>\n",
       "      <td>41</td>\n",
       "      <td>0</td>\n",
       "      <td>9</td>\n",
       "    </tr>\n",
       "    <tr>\n",
       "      <th>2</th>\n",
       "      <td>49</td>\n",
       "      <td>0</td>\n",
       "      <td>10</td>\n",
       "    </tr>\n",
       "    <tr>\n",
       "      <th>3</th>\n",
       "      <td>5</td>\n",
       "      <td>0</td>\n",
       "      <td>1</td>\n",
       "    </tr>\n",
       "    <tr>\n",
       "      <th>4</th>\n",
       "      <td>68</td>\n",
       "      <td>0</td>\n",
       "      <td>14</td>\n",
       "    </tr>\n",
       "    <tr>\n",
       "      <th>...</th>\n",
       "      <td>...</td>\n",
       "      <td>...</td>\n",
       "      <td>...</td>\n",
       "    </tr>\n",
       "    <tr>\n",
       "      <th>23703</th>\n",
       "      <td>24</td>\n",
       "      <td>1</td>\n",
       "      <td>5</td>\n",
       "    </tr>\n",
       "    <tr>\n",
       "      <th>23704</th>\n",
       "      <td>3</td>\n",
       "      <td>1</td>\n",
       "      <td>1</td>\n",
       "    </tr>\n",
       "    <tr>\n",
       "      <th>23705</th>\n",
       "      <td>17</td>\n",
       "      <td>0</td>\n",
       "      <td>4</td>\n",
       "    </tr>\n",
       "    <tr>\n",
       "      <th>23706</th>\n",
       "      <td>31</td>\n",
       "      <td>0</td>\n",
       "      <td>7</td>\n",
       "    </tr>\n",
       "    <tr>\n",
       "      <th>23707</th>\n",
       "      <td>18</td>\n",
       "      <td>1</td>\n",
       "      <td>4</td>\n",
       "    </tr>\n",
       "  </tbody>\n",
       "</table>\n",
       "<p>23708 rows × 3 columns</p>\n",
       "</div>"
      ],
      "text/plain": [
       "       age_label  gender_label  age_group_label\n",
       "0             52             0               11\n",
       "1             41             0                9\n",
       "2             49             0               10\n",
       "3              5             0                1\n",
       "4             68             0               14\n",
       "...          ...           ...              ...\n",
       "23703         24             1                5\n",
       "23704          3             1                1\n",
       "23705         17             0                4\n",
       "23706         31             0                7\n",
       "23707         18             1                4\n",
       "\n",
       "[23708 rows x 3 columns]"
      ]
     },
     "execution_count": 23,
     "metadata": {},
     "output_type": "execute_result"
    }
   ],
   "source": [
    "Y_original_df.age_group_label = Y_original_df.age_group_label.astype(int)\n",
    "Y_original_df"
   ]
  },
  {
   "cell_type": "code",
   "execution_count": 24,
   "metadata": {
    "colab": {
     "base_uri": "https://localhost:8080/",
     "height": 34
    },
    "colab_type": "code",
    "executionInfo": {
     "elapsed": 119098,
     "status": "ok",
     "timestamp": 1573176836895,
     "user": {
      "displayName": "Srikanth Babu Mandru",
      "photoUrl": "",
      "userId": "18288560901391106987"
     },
     "user_tz": 300
    },
    "id": "uW3L9UhcePei",
    "outputId": "b58412a8-a982-4b05-ee32-0c19878d4d2e"
   },
   "outputs": [
    {
     "data": {
      "text/plain": [
       "14"
      ]
     },
     "execution_count": 24,
     "metadata": {},
     "output_type": "execute_result"
    }
   ],
   "source": [
    "num_classes = int(np.max(Y_original_df.age_group_label.values))\n",
    "num_classes"
   ]
  },
  {
   "cell_type": "code",
   "execution_count": 25,
   "metadata": {
    "colab": {},
    "colab_type": "code",
    "id": "HwKpjHSqx-B2"
   },
   "outputs": [
    {
     "data": {
      "text/html": [
       "<div>\n",
       "<style scoped>\n",
       "    .dataframe tbody tr th:only-of-type {\n",
       "        vertical-align: middle;\n",
       "    }\n",
       "\n",
       "    .dataframe tbody tr th {\n",
       "        vertical-align: top;\n",
       "    }\n",
       "\n",
       "    .dataframe thead th {\n",
       "        text-align: right;\n",
       "    }\n",
       "</style>\n",
       "<table border=\"1\" class=\"dataframe\">\n",
       "  <thead>\n",
       "    <tr style=\"text-align: right;\">\n",
       "      <th></th>\n",
       "      <th>age_group_label</th>\n",
       "      <th>age_label</th>\n",
       "      <th>gender_label</th>\n",
       "    </tr>\n",
       "  </thead>\n",
       "  <tbody>\n",
       "    <tr>\n",
       "      <th>0</th>\n",
       "      <td>1</td>\n",
       "      <td>2363</td>\n",
       "      <td>2363</td>\n",
       "    </tr>\n",
       "    <tr>\n",
       "      <th>1</th>\n",
       "      <td>2</td>\n",
       "      <td>855</td>\n",
       "      <td>855</td>\n",
       "    </tr>\n",
       "    <tr>\n",
       "      <th>2</th>\n",
       "      <td>3</td>\n",
       "      <td>610</td>\n",
       "      <td>610</td>\n",
       "    </tr>\n",
       "    <tr>\n",
       "      <th>3</th>\n",
       "      <td>4</td>\n",
       "      <td>1049</td>\n",
       "      <td>1049</td>\n",
       "    </tr>\n",
       "    <tr>\n",
       "      <th>4</th>\n",
       "      <td>5</td>\n",
       "      <td>2760</td>\n",
       "      <td>2760</td>\n",
       "    </tr>\n",
       "    <tr>\n",
       "      <th>5</th>\n",
       "      <td>6</td>\n",
       "      <td>5024</td>\n",
       "      <td>5024</td>\n",
       "    </tr>\n",
       "    <tr>\n",
       "      <th>6</th>\n",
       "      <td>7</td>\n",
       "      <td>2446</td>\n",
       "      <td>2446</td>\n",
       "    </tr>\n",
       "    <tr>\n",
       "      <th>7</th>\n",
       "      <td>8</td>\n",
       "      <td>1893</td>\n",
       "      <td>1893</td>\n",
       "    </tr>\n",
       "    <tr>\n",
       "      <th>8</th>\n",
       "      <td>9</td>\n",
       "      <td>1095</td>\n",
       "      <td>1095</td>\n",
       "    </tr>\n",
       "    <tr>\n",
       "      <th>9</th>\n",
       "      <td>10</td>\n",
       "      <td>1005</td>\n",
       "      <td>1005</td>\n",
       "    </tr>\n",
       "    <tr>\n",
       "      <th>10</th>\n",
       "      <td>11</td>\n",
       "      <td>1232</td>\n",
       "      <td>1232</td>\n",
       "    </tr>\n",
       "    <tr>\n",
       "      <th>11</th>\n",
       "      <td>12</td>\n",
       "      <td>979</td>\n",
       "      <td>979</td>\n",
       "    </tr>\n",
       "    <tr>\n",
       "      <th>12</th>\n",
       "      <td>13</td>\n",
       "      <td>698</td>\n",
       "      <td>698</td>\n",
       "    </tr>\n",
       "    <tr>\n",
       "      <th>13</th>\n",
       "      <td>14</td>\n",
       "      <td>1699</td>\n",
       "      <td>1699</td>\n",
       "    </tr>\n",
       "  </tbody>\n",
       "</table>\n",
       "</div>"
      ],
      "text/plain": [
       "    age_group_label  age_label  gender_label\n",
       "0                 1       2363          2363\n",
       "1                 2        855           855\n",
       "2                 3        610           610\n",
       "3                 4       1049          1049\n",
       "4                 5       2760          2760\n",
       "5                 6       5024          5024\n",
       "6                 7       2446          2446\n",
       "7                 8       1893          1893\n",
       "8                 9       1095          1095\n",
       "9                10       1005          1005\n",
       "10               11       1232          1232\n",
       "11               12        979           979\n",
       "12               13        698           698\n",
       "13               14       1699          1699"
      ]
     },
     "execution_count": 25,
     "metadata": {},
     "output_type": "execute_result"
    }
   ],
   "source": [
    "result_count_df = Y_original_df.groupby('age_group_label').count().reset_index()\n",
    "result_count_df['age_group_label'] = result_count_df['age_group_label'].astype(int)\n",
    "result_count_df"
   ]
  },
  {
   "cell_type": "code",
   "execution_count": 26,
   "metadata": {},
   "outputs": [
    {
     "data": {
      "text/html": [
       "<div>\n",
       "<style scoped>\n",
       "    .dataframe tbody tr th:only-of-type {\n",
       "        vertical-align: middle;\n",
       "    }\n",
       "\n",
       "    .dataframe tbody tr th {\n",
       "        vertical-align: top;\n",
       "    }\n",
       "\n",
       "    .dataframe thead th {\n",
       "        text-align: right;\n",
       "    }\n",
       "</style>\n",
       "<table border=\"1\" class=\"dataframe\">\n",
       "  <thead>\n",
       "    <tr style=\"text-align: right;\">\n",
       "      <th></th>\n",
       "      <th>age_group_label</th>\n",
       "      <th>age_label</th>\n",
       "      <th>gender_label</th>\n",
       "    </tr>\n",
       "  </thead>\n",
       "  <tbody>\n",
       "    <tr>\n",
       "      <th>0</th>\n",
       "      <td>1</td>\n",
       "      <td>2363</td>\n",
       "      <td>2363</td>\n",
       "    </tr>\n",
       "    <tr>\n",
       "      <th>1</th>\n",
       "      <td>2</td>\n",
       "      <td>855</td>\n",
       "      <td>855</td>\n",
       "    </tr>\n",
       "    <tr>\n",
       "      <th>2</th>\n",
       "      <td>3</td>\n",
       "      <td>610</td>\n",
       "      <td>610</td>\n",
       "    </tr>\n",
       "    <tr>\n",
       "      <th>3</th>\n",
       "      <td>4</td>\n",
       "      <td>1049</td>\n",
       "      <td>1049</td>\n",
       "    </tr>\n",
       "    <tr>\n",
       "      <th>4</th>\n",
       "      <td>5</td>\n",
       "      <td>2760</td>\n",
       "      <td>2760</td>\n",
       "    </tr>\n",
       "    <tr>\n",
       "      <th>5</th>\n",
       "      <td>6</td>\n",
       "      <td>5024</td>\n",
       "      <td>5024</td>\n",
       "    </tr>\n",
       "    <tr>\n",
       "      <th>6</th>\n",
       "      <td>7</td>\n",
       "      <td>2446</td>\n",
       "      <td>2446</td>\n",
       "    </tr>\n",
       "    <tr>\n",
       "      <th>7</th>\n",
       "      <td>8</td>\n",
       "      <td>1893</td>\n",
       "      <td>1893</td>\n",
       "    </tr>\n",
       "    <tr>\n",
       "      <th>8</th>\n",
       "      <td>9</td>\n",
       "      <td>1095</td>\n",
       "      <td>1095</td>\n",
       "    </tr>\n",
       "    <tr>\n",
       "      <th>9</th>\n",
       "      <td>10</td>\n",
       "      <td>1005</td>\n",
       "      <td>1005</td>\n",
       "    </tr>\n",
       "    <tr>\n",
       "      <th>10</th>\n",
       "      <td>11</td>\n",
       "      <td>1232</td>\n",
       "      <td>1232</td>\n",
       "    </tr>\n",
       "    <tr>\n",
       "      <th>11</th>\n",
       "      <td>12</td>\n",
       "      <td>979</td>\n",
       "      <td>979</td>\n",
       "    </tr>\n",
       "    <tr>\n",
       "      <th>12</th>\n",
       "      <td>13</td>\n",
       "      <td>698</td>\n",
       "      <td>698</td>\n",
       "    </tr>\n",
       "    <tr>\n",
       "      <th>13</th>\n",
       "      <td>14</td>\n",
       "      <td>1699</td>\n",
       "      <td>1699</td>\n",
       "    </tr>\n",
       "  </tbody>\n",
       "</table>\n",
       "</div>"
      ],
      "text/plain": [
       "    age_group_label  age_label  gender_label\n",
       "0                 1       2363          2363\n",
       "1                 2        855           855\n",
       "2                 3        610           610\n",
       "3                 4       1049          1049\n",
       "4                 5       2760          2760\n",
       "5                 6       5024          5024\n",
       "6                 7       2446          2446\n",
       "7                 8       1893          1893\n",
       "8                 9       1095          1095\n",
       "9                10       1005          1005\n",
       "10               11       1232          1232\n",
       "11               12        979           979\n",
       "12               13        698           698\n",
       "13               14       1699          1699"
      ]
     },
     "execution_count": 26,
     "metadata": {},
     "output_type": "execute_result"
    }
   ],
   "source": [
    "result_count_df_sorted = result_count_df.sort_values(by =['age_group_label'])\n",
    "result_count_df_sorted"
   ]
  },
  {
   "cell_type": "code",
   "execution_count": 34,
   "metadata": {},
   "outputs": [
    {
     "data": {
      "image/png": "[encoded data removed]",
      "text/plain": [
       "<Figure size 432x288 with 1 Axes>"
      ]
     },
     "metadata": {
      "needs_background": "light"
     },
     "output_type": "display_data"
    }
   ],
   "source": [
    "plt.bar(result_count_df_sorted.age_group_label, result_count_df_sorted.age_label )\n",
    "plt.xticks(result_count_df_sorted.age_group_label)\n",
    "plt.title('Age groups(classes) Distribution')\n",
    "plt.xlabel('age')\n",
    "plt.ylabel('number of records')\n",
    "plt.show()\n"
   ]
  },
  {
   "cell_type": "code",
   "execution_count": 36,
   "metadata": {},
   "outputs": [
    {
     "data": {
      "text/html": [
       "<div>\n",
       "<style scoped>\n",
       "    .dataframe tbody tr th:only-of-type {\n",
       "        vertical-align: middle;\n",
       "    }\n",
       "\n",
       "    .dataframe tbody tr th {\n",
       "        vertical-align: top;\n",
       "    }\n",
       "\n",
       "    .dataframe thead th {\n",
       "        text-align: right;\n",
       "    }\n",
       "</style>\n",
       "<table border=\"1\" class=\"dataframe\">\n",
       "  <thead>\n",
       "    <tr style=\"text-align: right;\">\n",
       "      <th></th>\n",
       "      <th>gender_label</th>\n",
       "      <th>age_label</th>\n",
       "      <th>age_group_label</th>\n",
       "    </tr>\n",
       "  </thead>\n",
       "  <tbody>\n",
       "    <tr>\n",
       "      <th>0</th>\n",
       "      <td>0</td>\n",
       "      <td>12391</td>\n",
       "      <td>12391</td>\n",
       "    </tr>\n",
       "    <tr>\n",
       "      <th>1</th>\n",
       "      <td>1</td>\n",
       "      <td>11317</td>\n",
       "      <td>11317</td>\n",
       "    </tr>\n",
       "  </tbody>\n",
       "</table>\n",
       "</div>"
      ],
      "text/plain": [
       "   gender_label  age_label  age_group_label\n",
       "0             0      12391            12391\n",
       "1             1      11317            11317"
      ]
     },
     "execution_count": 36,
     "metadata": {},
     "output_type": "execute_result"
    }
   ],
   "source": [
    "results_eda_gender_df  = Y_original_df.groupby(['gender_label']).count().reset_index()\n",
    "results_eda_gender_df "
   ]
  },
  {
   "cell_type": "code",
   "execution_count": 41,
   "metadata": {},
   "outputs": [
    {
     "data": {
      "image/png": "[encoded data removed]",
      "text/plain": [
       "<Figure size 432x288 with 1 Axes>"
      ]
     },
     "metadata": {
      "needs_background": "light"
     },
     "output_type": "display_data"
    }
   ],
   "source": [
    "plt.bar(results_eda_gender_df.gender_label, results_eda_gender_df.age_label )\n",
    "plt.xticks(results_eda_gender_df.gender_label , ['Male', 'Female'])\n",
    "plt.title('Gender Distribution')\n",
    "plt.xlabel('Gender')\n",
    "plt.ylabel('number of records')\n",
    "plt.show()"
   ]
  },
  {
   "cell_type": "markdown",
   "metadata": {
    "colab_type": "text",
    "id": "FhnB13EMB8Vt"
   },
   "source": [
    "###  Split data and preparation\n"
   ]
  },
  {
   "cell_type": "code",
   "execution_count": null,
   "metadata": {
    "colab": {},
    "colab_type": "code",
    "id": "PbBaM2Y1-pd7"
   },
   "outputs": [],
   "source": [
    "# X_train_sk, X_test_sk, Y_train_sk, Y_test_sk = train_test_split(X_original_preprocessed, Y_original_df.values, test_size = 0.2, random_state = 10)# "
   ]
  },
  {
   "cell_type": "code",
   "execution_count": null,
   "metadata": {
    "colab": {},
    "colab_type": "code",
    "id": "hLFEFkMoZLS9"
   },
   "outputs": [],
   "source": [
    "def custom_train_test_split(X, Y, test_size):\n",
    "    split_train_length = int(X.shape[0] * (1-test_size) )\n",
    "    X_train = X[:split_train_length]\n",
    "    Y_train = Y[:split_train_length]\n",
    "    X_test = X[split_train_length:]\n",
    "    Y_test = Y[split_train_length:]\n",
    "    return X_train, X_test, Y_train, Y_test"
   ]
  },
  {
   "cell_type": "code",
   "execution_count": null,
   "metadata": {
    "colab": {},
    "colab_type": "code",
    "id": "UlFGuB4qY7qe"
   },
   "outputs": [],
   "source": [
    "X_train_custom, X_test_custom, Y_train_custom, Y_test_custom = custom_train_test_split(X_original, Y_original_df.values, test_size = 0.2)"
   ]
  },
  {
   "cell_type": "code",
   "execution_count": null,
   "metadata": {
    "colab": {
     "base_uri": "https://localhost:8080/",
     "height": 68
    },
    "colab_type": "code",
    "executionInfo": {
     "elapsed": 192,
     "status": "ok",
     "timestamp": 1573177250040,
     "user": {
      "displayName": "Srikanth Babu Mandru",
      "photoUrl": "",
      "userId": "18288560901391106987"
     },
     "user_tz": 300
    },
    "id": "c_mLzkHLa8nz",
    "outputId": "d8a1a36a-7ebe-47b5-bfc3-96742698ef59"
   },
   "outputs": [],
   "source": [
    "print(X_train_custom.shape)\n",
    "print(X_test_custom.shape)\n",
    "print(X_train_custom.shape[0] + X_test_custom.shape[0])"
   ]
  },
  {
   "cell_type": "code",
   "execution_count": null,
   "metadata": {
    "colab": {
     "base_uri": "https://localhost:8080/",
     "height": 286
    },
    "colab_type": "code",
    "executionInfo": {
     "elapsed": 474,
     "status": "ok",
     "timestamp": 1573177269197,
     "user": {
      "displayName": "Srikanth Babu Mandru",
      "photoUrl": "",
      "userId": "18288560901391106987"
     },
     "user_tz": 300
    },
    "id": "MtzZdd0Ip692",
    "outputId": "2111000a-4189-4b9f-b3bb-02767f5153b4"
   },
   "outputs": [],
   "source": [
    "show_index = 100\n",
    "\n",
    "plt.imshow(X_train_custom[show_index])"
   ]
  },
  {
   "cell_type": "code",
   "execution_count": null,
   "metadata": {
    "colab": {
     "base_uri": "https://localhost:8080/",
     "height": 51
    },
    "colab_type": "code",
    "executionInfo": {
     "elapsed": 198,
     "status": "ok",
     "timestamp": 1573177490990,
     "user": {
      "displayName": "Srikanth Babu Mandru",
      "photoUrl": "",
      "userId": "18288560901391106987"
     },
     "user_tz": 300
    },
    "id": "GqMpuJlVp693",
    "outputId": "f20e66c2-1b85-4380-9076-d0f0cf93e01c"
   },
   "outputs": [],
   "source": [
    "print('age of person in {} data image is : {} '  .format(show_index, Y_original[show_index, 0]) )\n",
    "print('age group of person in {} data image is : {} '  .format(show_index, Y_train_custom[show_index , 0]) )"
   ]
  },
  {
   "cell_type": "code",
   "execution_count": null,
   "metadata": {
    "colab": {},
    "colab_type": "code",
    "id": "EP_NZLYYp6-c"
   },
   "outputs": [],
   "source": [
    "import h5py\n",
    "from pathlib import Path"
   ]
  },
  {
   "cell_type": "code",
   "execution_count": null,
   "metadata": {
    "colab": {
     "base_uri": "https://localhost:8080/",
     "height": 34
    },
    "colab_type": "code",
    "executionInfo": {
     "elapsed": 196,
     "status": "ok",
     "timestamp": 1573177888255,
     "user": {
      "displayName": "Srikanth Babu Mandru",
      "photoUrl": "",
      "userId": "18288560901391106987"
     },
     "user_tz": 300
    },
    "id": "CIdnBSr0pvD1",
    "outputId": "38ddfe36-19ea-4483-9209-389ae3ef5081"
   },
   "outputs": [],
   "source": [
    "hdf5_dir = Path(root_path + \"data/hdf5/\")\n",
    "hdf5_dir.mkdir(parents=True, exist_ok=True)\n",
    "hdf5_dir"
   ]
  },
  {
   "cell_type": "code",
   "execution_count": null,
   "metadata": {
    "colab": {},
    "colab_type": "code",
    "id": "VPeT6AxgpvVO"
   },
   "outputs": [],
   "source": [
    "def store_many_hdf5(train_images, train_labels, test_images, test_labels):\n",
    "    # num_images = len(images)\n",
    "\n",
    "    # Create a new HDF5 file\n",
    "    file = h5py.File(hdf5_dir / f\"train_test_data.h5\", \"w\")\n",
    "\n",
    "    # Create a dataset in the file\n",
    "    train_dataset = file.create_dataset(\n",
    "        \"train_images\", np.shape(train_images), h5py.h5t.STD_U8BE, data=train_images\n",
    "    )\n",
    "    train_meta_set = file.create_dataset(\n",
    "        \"train_meta\", np.shape(train_labels), h5py.h5t.STD_U8BE, data=train_labels\n",
    "    )\n",
    "    test_dataset = file.create_dataset(\n",
    "        \"test_images\", np.shape(test_images), h5py.h5t.STD_U8BE, data=test_images\n",
    "    )\n",
    "    test_meta_set = file.create_dataset(\n",
    "        \"test_meta\", np.shape(test_labels), h5py.h5t.STD_U8BE, data=test_labels\n",
    "    )\n",
    "    file.close()"
   ]
  },
  {
   "cell_type": "code",
   "execution_count": null,
   "metadata": {
    "colab": {},
    "colab_type": "code",
    "id": "wR0u4Zeypv1s"
   },
   "outputs": [],
   "source": [
    "store_many_hdf5(X_train_custom, Y_train_custom, X_test_custom, Y_test_custom)"
   ]
  },
  {
   "cell_type": "code",
   "execution_count": null,
   "metadata": {
    "colab": {},
    "colab_type": "code",
    "id": "_0ERMAEItml1"
   },
   "outputs": [],
   "source": []
  }
 ],
 "metadata": {
  "accelerator": "TPU",
  "colab": {
   "collapsed_sections": [],
   "machine_shape": "hm",
   "name": "Deep_Age_Classifiers_data_split.ipynb",
   "provenance": []
  },
  "kernelspec": {
   "display_name": "Python 3",
   "language": "python",
   "name": "python3"
  },
  "language_info": {
   "codemirror_mode": {
    "name": "ipython",
    "version": 3
   },
   "file_extension": ".py",
   "mimetype": "text/x-python",
   "name": "python",
   "nbconvert_exporter": "python",
   "pygments_lexer": "ipython3",
   "version": "3.6.9"
  }
 },
 "nbformat": 4,
 "nbformat_minor": 1
}
